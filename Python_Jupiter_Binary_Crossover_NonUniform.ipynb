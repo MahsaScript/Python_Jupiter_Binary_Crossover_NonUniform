{
  "nbformat": 4,
  "nbformat_minor": 0,
  "metadata": {
    "colab": {
      "provenance": []
    },
    "kernelspec": {
      "name": "python3",
      "display_name": "Python 3"
    },
    "language_info": {
      "name": "python"
    }
  },
  "cells": [
    {
      "cell_type": "code",
      "execution_count": null,
      "metadata": {
        "id": "cEPli67x_PfE",
        "colab": {
          "base_uri": "https://localhost:8080/"
        },
        "outputId": "2e206eaa-fd40-421b-ffbf-a36f199dfebb"
      },
      "outputs": [
        {
          "output_type": "stream",
          "name": "stdout",
          "text": [
            "Collecting pygad\n",
            "  Downloading pygad-2.16.3-py3-none-any.whl (53 kB)\n",
            "\u001b[?25l\r\u001b[K     |██████▏                         | 10 kB 21.0 MB/s eta 0:00:01\r\u001b[K     |████████████▎                   | 20 kB 11.6 MB/s eta 0:00:01\r\u001b[K     |██████████████████▍             | 30 kB 10.2 MB/s eta 0:00:01\r\u001b[K     |████████████████████████▌       | 40 kB 8.8 MB/s eta 0:00:01\r\u001b[K     |██████████████████████████████▋ | 51 kB 5.2 MB/s eta 0:00:01\r\u001b[K     |████████████████████████████████| 53 kB 1.2 MB/s \n",
            "\u001b[?25hRequirement already satisfied: numpy in /usr/local/lib/python3.7/dist-packages (from pygad) (1.21.6)\n",
            "Requirement already satisfied: matplotlib in /usr/local/lib/python3.7/dist-packages (from pygad) (3.2.2)\n",
            "Requirement already satisfied: python-dateutil>=2.1 in /usr/local/lib/python3.7/dist-packages (from matplotlib->pygad) (2.8.2)\n",
            "Requirement already satisfied: kiwisolver>=1.0.1 in /usr/local/lib/python3.7/dist-packages (from matplotlib->pygad) (1.4.2)\n",
            "Requirement already satisfied: pyparsing!=2.0.4,!=2.1.2,!=2.1.6,>=2.0.1 in /usr/local/lib/python3.7/dist-packages (from matplotlib->pygad) (3.0.8)\n",
            "Requirement already satisfied: cycler>=0.10 in /usr/local/lib/python3.7/dist-packages (from matplotlib->pygad) (0.11.0)\n",
            "Requirement already satisfied: typing-extensions in /usr/local/lib/python3.7/dist-packages (from kiwisolver>=1.0.1->matplotlib->pygad) (4.1.1)\n",
            "Requirement already satisfied: six>=1.5 in /usr/local/lib/python3.7/dist-packages (from python-dateutil>=2.1->matplotlib->pygad) (1.15.0)\n",
            "Installing collected packages: pygad\n",
            "Successfully installed pygad-2.16.3\n"
          ]
        }
      ],
      "source": [
        "!pip install pygad"
      ]
    },
    {
      "cell_type": "code",
      "source": [
        "import pygad"
      ],
      "metadata": {
        "id": "DIcHUeayiJrt"
      },
      "execution_count": null,
      "outputs": []
    },
    {
      "cell_type": "code",
      "source": [
        "equation_inputs = [4,-2,3.5,5,-11,-4.7]\n",
        "\n",
        "#y =  w1x1 + w2x2 + w3x3 + w4x4 + w5x5 + 6wx6\n",
        "#where (x1,x2,x3,x4,x5,x6)=(4,-2,3.5,5,-11,-4.7) and y=44"
      ],
      "metadata": {
        "id": "vej-VZPyiSsA"
      },
      "execution_count": null,
      "outputs": []
    },
    {
      "cell_type": "code",
      "source": [
        "function_inputs = [4,-2,3.5,5,-11,-4.7]\n",
        "desired_output = 44"
      ],
      "metadata": {
        "id": "LJTzlP--irgc"
      },
      "execution_count": null,
      "outputs": []
    },
    {
      "cell_type": "code",
      "source": [
        "def fitness_func(solution, solution_idx):\n",
        "    output = numpy.sum(solution*function_inputs)\n",
        "    fitness = 1.0 / numpy.abs(output - desired_output)\n",
        "    return fitness"
      ],
      "metadata": {
        "id": "xGvugXcoitzf"
      },
      "execution_count": null,
      "outputs": []
    },
    {
      "cell_type": "code",
      "source": [
        "fitness_function = fitness_func\n",
        "\n",
        "num_generations = 50\n",
        "num_parents_mating = 4\n",
        "\n",
        "sol_per_pop = 8\n",
        "num_genes = len(function_inputs)\n",
        "\n",
        "init_range_low = -2\n",
        "init_range_high = 5\n",
        "\n",
        "parent_selection_type = \"sss\"\n",
        "keep_parents = 1\n",
        "\n",
        "crossover_type = \"single_point\"\n",
        "\n",
        "mutation_type = \"random\"\n",
        "mutation_percent_genes = 10"
      ],
      "metadata": {
        "id": "f2vT6NSKiwys"
      },
      "execution_count": null,
      "outputs": []
    },
    {
      "cell_type": "code",
      "source": [
        "ga_instance = pygad.GA(num_generations=num_generations,\n",
        "                       num_parents_mating=num_parents_mating,\n",
        "                       fitness_func=fitness_function,\n",
        "                       sol_per_pop=sol_per_pop,\n",
        "                       num_genes=num_genes,\n",
        "                       init_range_low=init_range_low,\n",
        "                       init_range_high=init_range_high,\n",
        "                       parent_selection_type=parent_selection_type,\n",
        "                       keep_parents=keep_parents,\n",
        "                       crossover_type=crossover_type,\n",
        "                       mutation_type=mutation_type,\n",
        "                       mutation_percent_genes=mutation_percent_genes)"
      ],
      "metadata": {
        "colab": {
          "base_uri": "https://localhost:8080/"
        },
        "id": "FR-lpGrNiz5d",
        "outputId": "4e0e1156-20f8-4fb6-9659-e70e0c9b8f30"
      },
      "execution_count": null,
      "outputs": [
        {
          "output_type": "stream",
          "name": "stderr",
          "text": [
            "/usr/local/lib/python3.7/dist-packages/pygad/pygad.py:486: UserWarning: The percentage of genes to mutate (mutation_percent_genes=10) resutled in selecting (0) genes. The number of genes to mutate is set to 1 (mutation_num_genes=1).\n",
            "If you do not want to mutate any gene, please set mutation_type=None.\n",
            "  if not self.suppress_warnings: warnings.warn(\"The percentage of genes to mutate (mutation_percent_genes={mutation_percent}) resutled in selecting ({mutation_num}) genes. The number of genes to mutate is set to 1 (mutation_num_genes=1).\\nIf you do not want to mutate any gene, please set mutation_type=None.\".format(mutation_percent=mutation_percent_genes, mutation_num=mutation_num_genes))\n"
          ]
        }
      ]
    },
    {
      "cell_type": "code",
      "source": [
        "import numpy as np\n",
        "import random\n",
        "import matplotlib.pyplot as plt\n",
        "# Begin execution of the algorithm\n",
        "def begin_learning(self, iteration: int = 100):\n",
        "    # print('begin learning')\n",
        "    avg_fitnesses = []\n",
        "    max_fitnesses = []\n",
        "    for i in range(iteration):\n",
        "        mating_pool = self.roulette_wheel()\n",
        "        # print('mating_pool:', mating_pool)\n",
        "        # print('population:', self.population)\n",
        "        self.crossover(mating_pool)\n",
        "        self.mutate()\n",
        "        self.evaluate_fitness()\n",
        "        avg_fitnesses.append(self.__average_fitness)\n",
        "        max_fitnesses.append(self.__max_fitness)\n",
        "        print('average_fitness ', self.__average_fitness)\n",
        "        print('max_fitness ', self.__max_fitness)\n",
        "\n",
        "    plt.plot(range(iteration), avg_fitnesses, color='blue', label='average mean fitness')\n",
        "    plt.plot(range(iteration), max_fitnesses, color='red', label='best so far')\n",
        "    plt.xlabel('iteration')\n",
        "    plt.ylabel('fitness value')\n",
        "    plt.legend()\n",
        "    plt.show()"
      ],
      "metadata": {
        "id": "ODoCFvZCi-Cz"
      },
      "execution_count": null,
      "outputs": []
    },
    {
      "cell_type": "code",
      "source": [
        "begin_learning(1000)"
      ],
      "metadata": {
        "id": "nyAKc87AjJ1z"
      },
      "execution_count": null,
      "outputs": []
    }
  ]
}